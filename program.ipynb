{
 "cells": [
  {
   "cell_type": "code",
   "execution_count": null,
   "id": "9851b89a",
   "metadata": {},
   "outputs": [],
   "source": [
    "import numpy as np\n",
    "\n",
    "import matplotlib.pyplot as plt\n",
    "\n",
    "import os\n",
    "import cv2\n",
    "#setting the path to the directory containing the pics\n",
    "DATADIR=\"/home/yogesh/my_project_dir/\"\n",
    "CATEGORIES=['after','before']\n",
    "\n",
    "for category in CATEGORIES:\n",
    "path = os.path.join(DATADIR,category)\n",
    "for img in os.listdir(path):\n",
    "img_array=cv2.imread(os.path.join(path,img),cv2.IMREAD_GRAYSCALE)\n",
    "plt.imshow(img_array, cmap=\"gray\")\n",
    "\n",
    "break\n",
    "\n",
    "plt.show()\n",
    "break\n",
    "traning_data =[]\n",
    "def create_traning_data():\n",
    "for category in CATEGORIES:\n",
    "path = os.path.join(DATADIR,category)\n",
    "class_num = CATEGORIES.index(category)\n",
    "for img in os.listdir(path):\n",
    "try:\n",
    "\n",
    "img_array=cv2.imread(os.path.join(path,img),cv2.IMREAD_GRAYSCALE)\n",
    "\n",
    "new_array = cv2.resize(img_array,(120,120))\n",
    "plt.show()\n",
    "traning_data.append([new_array, class_num])\n",
    "except Exception as e:\n",
    "print(\"Failed\")\n",
    "create_traning_data()\n",
    "print(len(traning_data))\n",
    "from PIL import Image, ImageChops\n",
    "img1 = Image.open('/home/yogesh/my_project_dir/after/')\n",
    "img2 = Image.open('/home/yogesh/my_project_dir/before/')\n",
    "diff = ImageChops.difference(img1, img2)\n",
    "diff.show()"
   ]
  }
 ],
 "metadata": {
  "kernelspec": {
   "display_name": "Python 3 (ipykernel)",
   "language": "python",
   "name": "python3"
  },
  "language_info": {
   "codemirror_mode": {
    "name": "ipython",
    "version": 3
   },
   "file_extension": ".py",
   "mimetype": "text/x-python",
   "name": "python",
   "nbconvert_exporter": "python",
   "pygments_lexer": "ipython3",
   "version": "3.9.10"
  }
 },
 "nbformat": 4,
 "nbformat_minor": 5
}
